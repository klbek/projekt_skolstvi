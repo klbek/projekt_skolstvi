{
 "cells": [
  {
   "cell_type": "code",
   "execution_count": 1,
   "id": "56875fb8-1f22-4c94-94c6-78e90a1f6759",
   "metadata": {},
   "outputs": [],
   "source": [
    "import pandas as pd\n",
    "import defusedxml.ElementTree as ET\n",
    "import re"
   ]
  },
  {
   "cell_type": "markdown",
   "id": "3f8655f2-b762-4e10-8918-f5a11f1f5dd8",
   "metadata": {},
   "source": [
    "## Školská zařízení (MŠ, ZŠ, střední aj.) - scrap kapacit"
   ]
  },
  {
   "cell_type": "code",
   "execution_count": 2,
   "id": "4539668e-7d83-4e24-a832-7322d475f710",
   "metadata": {},
   "outputs": [],
   "source": [
    "tree = ET.parse(r'..\\data\\open_data_MSMT\\vrejcelk.xml')\n",
    "root = tree.getroot()"
   ]
  },
  {
   "cell_type": "code",
   "execution_count": 3,
   "id": "49325a95-009c-4530-b7ad-3daa477e3b3b",
   "metadata": {},
   "outputs": [],
   "source": [
    "skoly_data = []\n",
    "zarizeni_info_data = []\n",
    "zarizeni_misto_data = []\n",
    "skola_obor_data = []\n",
    "\n",
    "for ps in root.findall('.//PravniSubjekt'):\n",
    "    # TAB \"skoly\" a \"zarizeni_info\"\n",
    "    ico = ps.find('ICO').text\n",
    "    nazev = ps.find('Reditelstvi').find('RedPlnyNazev').text\n",
    "    for sz in ps.find('SkolyZarizeni').findall('SkolaZarizeni'):\n",
    "        izo = sz.find('IZO').text\n",
    "        typZarizeni = sz.find('SkolaPlnyNazev').text\n",
    "        zarizeniDruhTyp = sz.find('SkolaDruhTyp').text\n",
    "        zarizeniKapacita = sz.find('SkolaKapacita').text\n",
    "        kapacitaJednotka = sz.find('SkolaKapacitaJednotka').text\n",
    "        jazyk = sz.find('SkolaJazyk').text\n",
    "\n",
    "        raw_skoly = {'IZO' : izo,  \n",
    "                    'ZarizeniTyp': typZarizeni, \n",
    "                    'Kapacita': zarizeniKapacita,\n",
    "                    'KapacitaJednotka': kapacitaJednotka,           \n",
    "                    }\n",
    "        raw_zarizeni_info = {\n",
    "                    'ICO': ico, \n",
    "                    'ReditelstviNazev' : nazev, \n",
    "                    'ZarizeniDruhTyp' : zarizeniDruhTyp, \n",
    "                    'jazyk' : jazyk, \n",
    "                    'IZO' : izo,\n",
    "                    }\n",
    "        skoly_data.append(raw_skoly)\n",
    "        zarizeni_info_data.append(raw_zarizeni_info)\n",
    "\n",
    "        # TAB \"zarizeni_misto\"\n",
    "        for smvc in sz.find('SkolaMistaVykonuCinnosti').findall('SkolaMistoVykonuCinnosti'):\n",
    "            druh = smvc.find('MistoDruhTyp').text # u středních škol např. rozlišení gymnázií, u MŠ specializace\n",
    "\n",
    "            # extrahování PSČ\n",
    "            def extract_psc(adresa_text):\n",
    "                if adresa_text:\n",
    "                    PSC_match = re.search(r'\\d{3} ?\\d{2}', adresa_text)\n",
    "                    return PSC_match.group() if PSC_match else adresa_text\n",
    "                return None\n",
    "            PSC = extract_psc(smvc.find('MistoAdresa2').text)        \n",
    "            PSC2 = extract_psc(smvc.find('MistoAdresa3').text)\n",
    "\n",
    "                        \n",
    "            raw_zarizeni_misto = {\n",
    "                    'druh' : druh,\n",
    "                    'adresa2': PSC,\n",
    "                    'adresa3': PSC2,\n",
    "                    'IZO' : izo,\n",
    "                   }\n",
    "            zarizeni_misto_data.append(raw_zarizeni_misto)\n",
    "            \n",
    "        # TAB \"skola_obor\"\n",
    "        if sz.find('SkolaOboryVzdelani') is not None:\n",
    "            for sov in sz.find('SkolaOboryVzdelani').findall('SkolaOborVzdelani'):\n",
    "                oborNazev = sov.find('OborNazev').text\n",
    "                delkaVzdelavani = sov.find('DelkaVzdelavani').text\n",
    "                oborKapacita = sov.find('OborKapacita').text\n",
    "                oborDobihajici = sov.find('OborDobihajici').text\n",
    "                # print(oborNazev)\n",
    "    \n",
    "                raw_skola_obor = {\n",
    "                    'OborNazev' : oborNazev,\n",
    "                    'DelkaVzdelavani': delkaVzdelavani,\n",
    "                    'OborKapacita' : oborKapacita,\n",
    "                    'OborDobihajici' : oborDobihajici,\n",
    "                    'IZO' : izo,\n",
    "                   }\n",
    "                skola_obor_data.append(raw_skola_obor)"
   ]
  },
  {
   "cell_type": "markdown",
   "id": "06ae7f71-ff9b-403a-8bba-f5ebd0e2ddeb",
   "metadata": {},
   "source": [
    "### Školy (kapacita) data -> dataframe dle ERD"
   ]
  },
  {
   "cell_type": "markdown",
   "id": "ca4369cb-21f5-4ede-a66c-2da84c5e8ef8",
   "metadata": {},
   "source": [
    "Převedení raw dat do dataframů, následné vytvoření sloupců 'PSC' a 'obec' a jejich vyplnění dle nadefinovaných funkcí.\\\n",
    "**makePsc2** -> pokud se ve sloupcích adresa2 a adresa3 nachází PSC, vyextrahuje se k pozdějšímu napárování krajů (přes okresy)\\\n",
    "**makeObec** -> jestliže jsme získali PSC ze sloupce adresa3, pak do obce se nám zapíše adresa2+PSC jako unikátní kombinace identifikátoru (adresa3 mohla být none i jiná str informace), pokud adresa3 nebo PSC nebylo vyplněno, do obce se nám zapíše adresa2, \\\n",
    "Chybějící hodnoty v PSC nahradíme nulou a převedeme hodnoty na int\n"
   ]
  },
  {
   "cell_type": "code",
   "execution_count": 4,
   "id": "59158dc2-6656-4905-ac4b-25686a8cfc91",
   "metadata": {
    "scrolled": true
   },
   "outputs": [
    {
     "data": {
      "text/plain": [
       "IZO\n",
       "181064791    108\n",
       "110029534     56\n",
       "108012263     46\n",
       "161100473     41\n",
       "108027384     35\n",
       "            ... \n",
       "181144841      1\n",
       "181144913      1\n",
       "181144921      1\n",
       "181145057      1\n",
       "181145227      1\n",
       "Name: count, Length: 27188, dtype: int64"
      ]
     },
     "execution_count": 4,
     "metadata": {},
     "output_type": "execute_result"
    }
   ],
   "source": [
    "skoly = pd.DataFrame(skoly_data)\n",
    "\n",
    "zarizeni_info = pd.DataFrame(zarizeni_info_data)\n",
    "zarizeni_info.insert(loc=0, column='ID', value=range(1, len(zarizeni_info_data) + 1))\n",
    "    \n",
    "zarizeni_misto = pd.DataFrame(zarizeni_misto_data)\n",
    "zarizeni_misto.insert(loc=0, column='ID', value=range(1, len(zarizeni_misto) + 1))\n",
    "    \n",
    "skola_obor = pd.DataFrame(skola_obor_data)\n",
    "skola_obor.insert(loc=0, column='ID', value=range(1, len(skola_obor_data) + 1))\n",
    "  \n",
    "def makePsc(row):\n",
    "    adresa2 = row['adresa2']\n",
    "    adresa3 = row['adresa3']\n",
    "    if adresa3:\n",
    "        psc_match = re.search(r'\\d{3} ?\\d{2}', adresa3)\n",
    "        if psc_match:\n",
    "            return psc_match.group().replace(' ', '')\n",
    "    elif adresa2:\n",
    "        psc_match = re.search(r'\\d{3} ?\\d{2}', adresa2)\n",
    "        if psc_match:\n",
    "            return psc_match.group().replace(' ', '')\n",
    "            \n",
    "def makeObec(row):\n",
    "    PSC_obec = row['PSC']\n",
    "    adresa2 = row['adresa2']\n",
    "    adresa3 = row['adresa3']\n",
    "    if PSC_obec:\n",
    "        if adresa3:\n",
    "            psc_match = re.search(r'\\d{3} ?\\d{2}', adresa3)\n",
    "            if psc_match.group().replace(' ', '') == PSC_obec:\n",
    "                return adresa2 + ',' + PSC_obec\n",
    "        return adresa2\n",
    "    else:\n",
    "        return adresa2\n",
    "        \n",
    "\n",
    "zarizeni_misto['PSC'] = zarizeni_misto.apply(\n",
    "    makePsc, axis=1) \n",
    "\n",
    "zarizeni_misto['obec'] = zarizeni_misto.apply(   \n",
    "    makeObec, axis=1)\n",
    "\n",
    "# null hodnoty v 'PSC'nahrazeny číslem 0, následně celý sloupe převeden na int\n",
    "zarizeni_misto['PSC'] = zarizeni_misto['PSC'].fillna(0)\n",
    "zarizeni_misto = zarizeni_misto.astype({'PSC':'int'})\n",
    "# len(zarizeni_misto[zarizeni_misto['PSC'] == 0]) # kde chybí psč máme alespoň identifikátor obec\n",
    "zarizeni_misto['IZO'].value_counts()"
   ]
  },
  {
   "cell_type": "markdown",
   "id": "9185d9cf-58a2-44a6-bc8e-9021b0db6769",
   "metadata": {},
   "source": [
    "Předpříprava převodníku (z GitHubu) PSČ -> kraj"
   ]
  },
  {
   "cell_type": "code",
   "execution_count": 5,
   "id": "f3075839-57dd-4197-98f1-ffb3ee28afcb",
   "metadata": {},
   "outputs": [],
   "source": [
    "psc_okres = pd.read_csv(r'..\\data\\adresa\\psc2okres.csv') # obsahuje duplicity, a celkem uniq 77 okresů\n",
    "okres_kraj = pd.read_csv(r'..\\data\\adresa\\okres2kraj.csv') # pouze unikátní hodnoty, míň okresu, než má psc okresů, 82 okresů\n",
    "psc_okres = psc_okres.drop_duplicates() # dropnutí duplikátu z cca 17tis na cca 3tis záznamů"
   ]
  },
  {
   "cell_type": "markdown",
   "id": "c774a360-8556-4bde-8f4f-b497c5b59b57",
   "metadata": {},
   "source": [
    "Spojení tabulek k převodu - PSČ-Kraj, spojení přes okres.\\\n",
    "Vyhledání problematických PSC, které figutují ve vícero krajích (může zapříčinit zkreslení výsledků)\\\n",
    "**make_kraj** -> do vytvořeného sloupce 'Kraj' napárujeme dle PSC kraj pouze tehdy, pokud nám PSC nefiguruje ve vícero krajích \n"
   ]
  },
  {
   "cell_type": "code",
   "execution_count": 6,
   "id": "3f2ac30f-8805-48ab-ae37-d56f53603a56",
   "metadata": {},
   "outputs": [],
   "source": [
    "# vytvoreni nové tabulky -> dle PSČ zjistime pravděpodobně kraj\n",
    "psc_kraj = okres_kraj.merge(psc_okres, how='right', on='Okres')\n",
    "\n",
    "#kde není vyplněn kraj, přehodíme tam okres - jedná se např. o Hl. město Prahu, aj.\n",
    "psc_kraj['Kraj'] = psc_kraj['Kraj'].fillna(psc_kraj['Okres'])\n",
    "\n",
    "# len(psc_kraj['PSC'].unique()) #3007, 3165 je celkový počet, tzn. 158 PSČ celkem figuruje ve vícero krajích\n",
    "\n",
    "# psc figurující ve vícero krajích \n",
    "psc_duplicates = psc_kraj.groupby('PSC')['Kraj'].nunique()\n",
    "\n",
    "shared_psc = psc_duplicates[psc_duplicates > 1].index\n",
    "shared_kraje = psc_kraj[psc_kraj['PSC'].isin(shared_psc)]\n",
    "shared_kraje_set = set(shared_kraje['PSC'])\n",
    "shared_kraje_set_df = pd.DataFrame(shared_kraje_set)\n",
    "shared_kraje_set_df = shared_kraje_set_df.rename(columns={0: 'PSC'})\n",
    "\n",
    "def makeKraj(row):\n",
    "    zarizeni_psc = row['PSC']\n",
    "    \n",
    "    if zarizeni_psc not in shared_kraje_set_df['PSC'].values:\n",
    "        matching_row = psc_kraj[psc_kraj['PSC'] == zarizeni_psc]\n",
    "\n",
    "        if not matching_row.empty:\n",
    "            return matching_row['Kraj'].values[0]       \n",
    "    else:\n",
    "        return None\n",
    "        \n",
    "zarizeni_misto['Kraj'] = zarizeni_misto.apply(\n",
    "    makeKraj, axis=1) "
   ]
  },
  {
   "cell_type": "markdown",
   "id": "b02e6b78-5276-4d7d-b72a-3fc99f9e9d36",
   "metadata": {},
   "source": [
    "Filtrování zařízení bez přiřazených krajů, následná extrakce, prohnání výsledků AI, náhodná ruční kontrola výsledků, nahrání a následné přiřazení výsledků k zarizeni_misto.\\\n",
    "Jedná se o zařízení, které buďto vůbec nemají PSČ (ale mají jiné str informace) nebo PSČ mají, ale to je přiřazeno ke dvěma krajům."
   ]
  },
  {
   "cell_type": "code",
   "execution_count": 8,
   "id": "910dc3c5-8f93-438a-9de8-1a91a16448ca",
   "metadata": {},
   "outputs": [],
   "source": [
    "zarizeni_misto_filtered = zarizeni_misto[zarizeni_misto['Kraj'].isnull()]\n",
    "zarizeni_misto_filtered\n",
    "\n",
    "uniq_obec = zarizeni_misto_filtered['obec'].unique() # snízení záznamů na 1/7\n",
    "uniq_obec = pd.DataFrame(uniq_obec).rename(columns={0: 'Kraj'})\n",
    "# uniq_obec.to_excel(r'output_files\\zarizeni_misto_filtered1.xlsx') #následně hodnoty zkopírovány a vloženy do Copilotu (Gemini ani ChatGPT nefungovali)\n",
    "\n",
    "# zarizeni_misto['Kraj'].value_counts()\n",
    "# uniq_obec['Kraj'].value_counts()\n",
    "# zarizeni_misto.info()"
   ]
  },
  {
   "cell_type": "markdown",
   "id": "0779f8ce-b72d-4a6c-9b08-1f6b7f161b7c",
   "metadata": {},
   "source": [
    "Import(spuštění scriptu) dohledaných a hlavně problematických dat pomocí MS Copilot, převedení na df, následné napárovnání na zarizeni_misto"
   ]
  },
  {
   "cell_type": "code",
   "execution_count": 9,
   "id": "dff5797b-3faa-4f1e-9ad6-78c8397f5c75",
   "metadata": {},
   "outputs": [],
   "source": [
    "%run ../data/adresa/kraj_copilot.py\n",
    "location = locations\n",
    "location_df = pd.DataFrame(list(location.items()), columns=['Location', 'Kraj'])\n",
    "location_df\n",
    "\n",
    "def make_missingKraj(row):\n",
    "    zarizeni_obec = row['obec']\n",
    "    zarizeni_kraj = row['Kraj']\n",
    "    \n",
    "    if pd.isnull(zarizeni_kraj):\n",
    "        match = location_df[location_df['Location'] == zarizeni_obec]\n",
    "        if not match.empty:\n",
    "            return match['Kraj'].values[0]\n",
    "    return zarizeni_kraj\n",
    "   \n",
    "zarizeni_misto['Kraj'] = zarizeni_misto.apply(\n",
    "    make_missingKraj, axis=1) "
   ]
  },
  {
   "cell_type": "markdown",
   "id": "f234629b-fe99-4916-a110-36baa392b9dd",
   "metadata": {},
   "source": [
    "Závěrečná kontrola - zarizeni_misto nemá v kraji nulové hodnoty + ve výčtu uniq hodnot jsou pouze kraje. "
   ]
  },
  {
   "cell_type": "code",
   "execution_count": 10,
   "id": "d55bfb9e-3ffc-489c-ba31-f93e67df208e",
   "metadata": {},
   "outputs": [
    {
     "data": {
      "text/plain": [
       "Kraj\n",
       "Středočeský kraj        5263\n",
       "Jihomoravský kraj       4653\n",
       "Moravskoslezský kraj    4140\n",
       "Hlavní město Praha      3335\n",
       "Olomoucký kraj          2797\n",
       "Ústecký kraj            2645\n",
       "Jihočeský kraj          2333\n",
       "Královéhradecký kraj    2293\n",
       "Zlínský kraj            2270\n",
       "Kraj Vysočina           2173\n",
       "Pardubický kraj         2027\n",
       "Plzeňský kraj           1920\n",
       "Liberecký kraj          1610\n",
       "Karlovarský kraj        1074\n",
       "Name: count, dtype: int64"
      ]
     },
     "execution_count": 10,
     "metadata": {},
     "output_type": "execute_result"
    }
   ],
   "source": [
    "zarizeni_misto['Kraj'] = zarizeni_misto['Kraj'].replace(['Frýdek Místek', 'Třinec'], 'Moravskoslezský kraj')\n",
    "zarizeni_misto[zarizeni_misto['Kraj'].isnull()] # finální ověření, že žádný kraj nechybí\n",
    "zarizeni_misto['Kraj'].value_counts()\n",
    "# zarizeni_misto.info()"
   ]
  }
 ],
 "metadata": {
  "kernelspec": {
   "display_name": "Python 3 (ipykernel)",
   "language": "python",
   "name": "python3"
  },
  "language_info": {
   "codemirror_mode": {
    "name": "ipython",
    "version": 3
   },
   "file_extension": ".py",
   "mimetype": "text/x-python",
   "name": "python",
   "nbconvert_exporter": "python",
   "pygments_lexer": "ipython3",
   "version": "3.12.2"
  }
 },
 "nbformat": 4,
 "nbformat_minor": 5
}

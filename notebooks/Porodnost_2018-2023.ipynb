{
 "cells": [
  {
   "cell_type": "code",
   "execution_count": 2,
   "id": "56875fb8-1f22-4c94-94c6-78e90a1f6759",
   "metadata": {},
   "outputs": [],
   "source": [
    "import pandas as pd"
   ]
  },
  {
   "cell_type": "markdown",
   "id": "e6482cb2-fa39-4646-b711-13faf0986ac6",
   "metadata": {},
   "source": [
    "## Porodnost 2018-2023 TAB (neměnná data z webu ČSÚ)"
   ]
  },
  {
   "cell_type": "markdown",
   "id": "d4848677-5f4b-4330-baf4-26dd9b4cf73e",
   "metadata": {},
   "source": [
    "Pro přesnost bychom od porodnosti měli správně odečítat počet zemřelých. Vzhledem k nedostatečně podrobným datům s tímto údajem pracovat nebudeme, jedná se ale o nižší stovky ve věku 0 - 14 let., podrobnější členění lze nalézst do 1roku, případně od 0-5let, což je pro nás stále nedostatečně podrobné."
   ]
  },
  {
   "cell_type": "markdown",
   "id": "75579316-9cb0-4873-833a-9907ca9caa7b",
   "metadata": {},
   "source": [
    "Vzhledem k málo podrobným datům i v rámci porodnosti (roční souhr za každý kraj nám výsledek dostupnosti výchovných a školských zařízení zkreslí 8měsíců). Je nutno si tedy manuálně vytáhnout tabulku porodnosti z VD ČSU a následně si data, co nejpřesněji dopočítat. Prakticky se nejpodrobnější data dají získat a dopočítat za jednotlivá čtvrtletí, pro naše účely proto:\n",
    "\n",
    "**(leden až září (n) - 1.pololetí (n)) / 3 = 1/3 3.čtvrtletí (n)**\n",
    "\n",
    "**porodnost do začátku školního roku = 1.pololetí(n) + 2/3 3.čtvrtletí (n)**\n",
    "\n",
    "**porodnost od začátku školního roku, která se přičte k 8.měsícům porodnosti roku n+1 -> (1/3 3.čtvrtletí + rok (n) - leden až září (n)) + 1.pololetí(n+1) + 2/3 3.čtvrtletí (n+1)** -> od dovršení 3 let do 31.8.x (respektive 31.8.(n+3) vzniká nárok nastoupit do školky, proto by tomu měly odpovídat regionální kapacity MŠ\n",
    "\n",
    "V počtech dětí při dělení zaokrouhluejme na celá čísla nahoru.\\\n",
    "\\\n",
    "Porodnost (živě narozených) zahrnuje i narození dětí s jiným občanstvím. Prozatím se nepodařilo najít dostatečně podrobná data(porovnání krajů) na to, tento údaj zahrnout do dat. Lze dohledat počet \"Živě narozených cizinců\", ovšem jen k celé ČR. Od roku 1995 se podíl cizinců na živě narozených v ČR (v %) postupně zvyšuje z 0,7 na 6,4 (2022), na 8,3 (2023).\n",
    "více infa: https://csu.gov.cz/pocet-cizincu-demograficke-udalosti?pocet=10&start=0&podskupiny=291&razeni=-datumVydani\n"
   ]
  },
  {
   "cell_type": "markdown",
   "id": "9fb47150-078d-406d-8f42-6440de94cc4d",
   "metadata": {},
   "source": [
    "### **Porodnost podrobná pro školní roky 2019/2020-2023/2024 dle regionů**"
   ]
  },
  {
   "cell_type": "markdown",
   "id": "74ed9a2d-230c-4006-8f2e-f361d069d2c4",
   "metadata": {},
   "source": [
    "V excelu dopočítané hodnoty, význam sloupců následující: \\\n",
    "porodnost do 2019/2020 -> děti, které se narodily (od září do prosince r. 2019) + (od ledna do srpna r.2020), tzn. jedná se o děti, které o 3 roky později mají již nárok na předškolní vzdělávání, tj ve školním roce 2022/2023 by měli mít možnost nastoupit do předškolního vzdělávání.\n",
    "porodnost do 2020/2021 -> ve školním roce 2023/2024 by měli mít možnost nastoupit do předškolního vzdělávání."
   ]
  },
  {
   "cell_type": "code",
   "execution_count": 4,
   "id": "d5d01125-ed4a-4f85-81ed-21ad67f45f82",
   "metadata": {},
   "outputs": [
    {
     "data": {
      "text/html": [
       "<div>\n",
       "<style scoped>\n",
       "    .dataframe tbody tr th:only-of-type {\n",
       "        vertical-align: middle;\n",
       "    }\n",
       "\n",
       "    .dataframe tbody tr th {\n",
       "        vertical-align: top;\n",
       "    }\n",
       "\n",
       "    .dataframe thead th {\n",
       "        text-align: right;\n",
       "    }\n",
       "</style>\n",
       "<table border=\"1\" class=\"dataframe\">\n",
       "  <thead>\n",
       "    <tr style=\"text-align: right;\">\n",
       "      <th></th>\n",
       "      <th>porodnost do 2023/2024</th>\n",
       "      <th>porodnost do 2022/2023</th>\n",
       "      <th>porodnost do 2021/2022</th>\n",
       "      <th>porodnost do 2020/2021</th>\n",
       "      <th>porodnost do 2019/2020</th>\n",
       "    </tr>\n",
       "  </thead>\n",
       "  <tbody>\n",
       "    <tr>\n",
       "      <th>Hlavní město Praha</th>\n",
       "      <td>12869</td>\n",
       "      <td>14178</td>\n",
       "      <td>14967</td>\n",
       "      <td>14819</td>\n",
       "      <td>15147</td>\n",
       "    </tr>\n",
       "    <tr>\n",
       "      <th>Jihočeský kraj</th>\n",
       "      <td>5559</td>\n",
       "      <td>6335</td>\n",
       "      <td>6709</td>\n",
       "      <td>6479</td>\n",
       "      <td>6752</td>\n",
       "    </tr>\n",
       "    <tr>\n",
       "      <th>Jihomoravský kraj</th>\n",
       "      <td>11133</td>\n",
       "      <td>12519</td>\n",
       "      <td>12990</td>\n",
       "      <td>12935</td>\n",
       "      <td>13489</td>\n",
       "    </tr>\n",
       "    <tr>\n",
       "      <th>Karlovarský kraj</th>\n",
       "      <td>2216</td>\n",
       "      <td>2436</td>\n",
       "      <td>2678</td>\n",
       "      <td>2742</td>\n",
       "      <td>2775</td>\n",
       "    </tr>\n",
       "    <tr>\n",
       "      <th>Kraj Vysočina</th>\n",
       "      <td>4615</td>\n",
       "      <td>5192</td>\n",
       "      <td>5478</td>\n",
       "      <td>5416</td>\n",
       "      <td>5462</td>\n",
       "    </tr>\n",
       "    <tr>\n",
       "      <th>Královéhradecký kraj</th>\n",
       "      <td>4770</td>\n",
       "      <td>5175</td>\n",
       "      <td>5499</td>\n",
       "      <td>5567</td>\n",
       "      <td>5586</td>\n",
       "    </tr>\n",
       "    <tr>\n",
       "      <th>Liberecký kraj</th>\n",
       "      <td>3703</td>\n",
       "      <td>4103</td>\n",
       "      <td>4442</td>\n",
       "      <td>4557</td>\n",
       "      <td>4695</td>\n",
       "    </tr>\n",
       "    <tr>\n",
       "      <th>Moravskoslezský kraj</th>\n",
       "      <td>9975</td>\n",
       "      <td>11243</td>\n",
       "      <td>11910</td>\n",
       "      <td>11871</td>\n",
       "      <td>12103</td>\n",
       "    </tr>\n",
       "    <tr>\n",
       "      <th>Olomoucký kraj</th>\n",
       "      <td>5523</td>\n",
       "      <td>6165</td>\n",
       "      <td>6456</td>\n",
       "      <td>6538</td>\n",
       "      <td>6481</td>\n",
       "    </tr>\n",
       "    <tr>\n",
       "      <th>Pardubický kraj</th>\n",
       "      <td>4671</td>\n",
       "      <td>5180</td>\n",
       "      <td>5399</td>\n",
       "      <td>5543</td>\n",
       "      <td>5609</td>\n",
       "    </tr>\n",
       "    <tr>\n",
       "      <th>Plzeňský kraj</th>\n",
       "      <td>5143</td>\n",
       "      <td>5646</td>\n",
       "      <td>5967</td>\n",
       "      <td>5904</td>\n",
       "      <td>6011</td>\n",
       "    </tr>\n",
       "    <tr>\n",
       "      <th>Středočeský kraj</th>\n",
       "      <td>12772</td>\n",
       "      <td>13936</td>\n",
       "      <td>14947</td>\n",
       "      <td>14575</td>\n",
       "      <td>14822</td>\n",
       "    </tr>\n",
       "    <tr>\n",
       "      <th>Ústecký kraj</th>\n",
       "      <td>6611</td>\n",
       "      <td>7504</td>\n",
       "      <td>7859</td>\n",
       "      <td>8096</td>\n",
       "      <td>8077</td>\n",
       "    </tr>\n",
       "    <tr>\n",
       "      <th>Zlínský kraj</th>\n",
       "      <td>5010</td>\n",
       "      <td>5608</td>\n",
       "      <td>5993</td>\n",
       "      <td>5740</td>\n",
       "      <td>5915</td>\n",
       "    </tr>\n",
       "  </tbody>\n",
       "</table>\n",
       "</div>"
      ],
      "text/plain": [
       "                      porodnost do 2023/2024  porodnost do 2022/2023  \\\n",
       "Hlavní město Praha                     12869                   14178   \n",
       "Jihočeský kraj                          5559                    6335   \n",
       "Jihomoravský kraj                      11133                   12519   \n",
       "Karlovarský kraj                        2216                    2436   \n",
       "Kraj Vysočina                           4615                    5192   \n",
       "Královéhradecký kraj                    4770                    5175   \n",
       "Liberecký kraj                          3703                    4103   \n",
       "Moravskoslezský kraj                    9975                   11243   \n",
       "Olomoucký kraj                          5523                    6165   \n",
       "Pardubický kraj                         4671                    5180   \n",
       "Plzeňský kraj                           5143                    5646   \n",
       "Středočeský kraj                       12772                   13936   \n",
       "Ústecký kraj                            6611                    7504   \n",
       "Zlínský kraj                            5010                    5608   \n",
       "\n",
       "                      porodnost do 2021/2022  porodnost do 2020/2021  \\\n",
       "Hlavní město Praha                     14967                   14819   \n",
       "Jihočeský kraj                          6709                    6479   \n",
       "Jihomoravský kraj                      12990                   12935   \n",
       "Karlovarský kraj                        2678                    2742   \n",
       "Kraj Vysočina                           5478                    5416   \n",
       "Královéhradecký kraj                    5499                    5567   \n",
       "Liberecký kraj                          4442                    4557   \n",
       "Moravskoslezský kraj                   11910                   11871   \n",
       "Olomoucký kraj                          6456                    6538   \n",
       "Pardubický kraj                         5399                    5543   \n",
       "Plzeňský kraj                           5967                    5904   \n",
       "Středočeský kraj                       14947                   14575   \n",
       "Ústecký kraj                            7859                    8096   \n",
       "Zlínský kraj                            5993                    5740   \n",
       "\n",
       "                      porodnost do 2019/2020  \n",
       "Hlavní město Praha                     15147  \n",
       "Jihočeský kraj                          6752  \n",
       "Jihomoravský kraj                      13489  \n",
       "Karlovarský kraj                        2775  \n",
       "Kraj Vysočina                           5462  \n",
       "Královéhradecký kraj                    5586  \n",
       "Liberecký kraj                          4695  \n",
       "Moravskoslezský kraj                   12103  \n",
       "Olomoucký kraj                          6481  \n",
       "Pardubický kraj                         5609  \n",
       "Plzeňský kraj                           6011  \n",
       "Středočeský kraj                       14822  \n",
       "Ústecký kraj                            8077  \n",
       "Zlínský kraj                            5915  "
      ]
     },
     "execution_count": 4,
     "metadata": {},
     "output_type": "execute_result"
    }
   ],
   "source": [
    "porodnost_podr = (pd.read_excel(r'..\\data\\porodnost\\porodnost_podr_uprav.xlsx', sheet_name=0, header=6, index_col=0, usecols='B, AO:AS', nrows=14))\n",
    "porodnost_podr"
   ]
  },
  {
   "cell_type": "code",
   "execution_count": 5,
   "id": "a93068e6-a3a4-40cd-acf2-86ed80433e0b",
   "metadata": {},
   "outputs": [],
   "source": [
    "porodnost_podr.to_csv(r'..\\output_files\\porodnost_podr.csv', mode='w')"
   ]
  },
  {
   "cell_type": "markdown",
   "id": "a57effec-6841-449a-b311-0a1684a7968f",
   "metadata": {},
   "source": [
    "### Porodnost tab, málo podrobná, prozatím odložená"
   ]
  },
  {
   "cell_type": "code",
   "execution_count": 6,
   "id": "bc33c743-3e1b-476a-aea1-52980b7b1dde",
   "metadata": {},
   "outputs": [],
   "source": [
    "# from web_scrap_porodnost import porodnost_tabulka"
   ]
  },
  {
   "cell_type": "code",
   "execution_count": 7,
   "id": "f512c2ec-55e2-4658-b46f-3179f2bb417d",
   "metadata": {},
   "outputs": [],
   "source": [
    "# porodnost_tab = porodnost_tabulka.astype({\"PocetNarozenychDeti\":'int'}) \n",
    "# porodnost_tabCR = porodnost_tab[porodnost_tab['Kraj'] == 'Česká republika']\n",
    "# porodnost_tab_kraje = porodnost_tab[porodnost_tab['Kraj'] != 'Česká republika']\n",
    "# # porodnost_tab_kraje\n",
    "# # porodnost_tabCR[porodnost_tabCR['Rok'].isin([2021, 2020, 2019, 2018])]['PocetNarozenychDeti'].sum()\n",
    "# # porodnost_tab_kraje.info()\n",
    "# porodnost_tab_kraje"
   ]
  },
  {
   "cell_type": "code",
   "execution_count": 8,
   "id": "6da651fc-8dfa-4704-8b92-43d5f4c30039",
   "metadata": {},
   "outputs": [],
   "source": [
    "# porodnost_tab_kraje.to_csv('porodnost.csv', mode='w')"
   ]
  },
  {
   "cell_type": "code",
   "execution_count": 9,
   "id": "ca8a6a34-98f6-48fc-84e0-319dbe4e5d57",
   "metadata": {
    "scrolled": true
   },
   "outputs": [],
   "source": [
    "# csu = pd.read_excel(r'D:\\git\\skolstvi_projekt\\CSU\\230042230202.xlsx', sheet_name=['2.2.17', '2.2.18'], header = 3, index_col=0, usecols='A, H:L')\n",
    "# # 2.2.17 -> počet žáků nově přijatých do 1. ročníku celkem\n",
    "# # 2.2.18 -> počet žáků 7letých a starších nově přijatých do 1. ročníku, podmnožina 2.2.17\n",
    "# # pro pozdější užití, na kartě 2.2.20 -> žáci opakující ročník, údaj \"z toho v 1.ročníku\" nutno PŘIČÍST k údaji z 2.2.17, \n",
    "# #žel tento údaj nění formátovaný v časocé řadě, nutno pro každý ročník explicitně stáhnout samostatný xlsx soubor\n",
    "\n",
    "# nPrijatiZS = pd.DataFrame(csu['2.2.17'])\n",
    "# nPrijatiZS_7plus = pd.DataFrame(csu['2.2.18'])\n",
    "# # nPrijatiZS\n",
    "# # nPrijatiZS_7plus"
   ]
  }
 ],
 "metadata": {
  "kernelspec": {
   "display_name": "Python 3 (ipykernel)",
   "language": "python",
   "name": "python3"
  },
  "language_info": {
   "codemirror_mode": {
    "name": "ipython",
    "version": 3
   },
   "file_extension": ".py",
   "mimetype": "text/x-python",
   "name": "python",
   "nbconvert_exporter": "python",
   "pygments_lexer": "ipython3",
   "version": "3.12.2"
  }
 },
 "nbformat": 4,
 "nbformat_minor": 5
}

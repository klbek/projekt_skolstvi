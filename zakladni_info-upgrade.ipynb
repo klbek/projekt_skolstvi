{
 "cells": [
  {
   "cell_type": "code",
   "execution_count": 1,
   "id": "56875fb8-1f22-4c94-94c6-78e90a1f6759",
   "metadata": {},
   "outputs": [],
   "source": [
    "import pandas as pd\n",
    "import defusedxml.ElementTree as ET\n",
    "# import re"
   ]
  },
  {
   "cell_type": "markdown",
   "id": "980044b5-8884-48d8-9a02-b86927962a73",
   "metadata": {},
   "source": [
    "## Školy"
   ]
  },
  {
   "cell_type": "code",
   "execution_count": 2,
   "id": "4cc01dfb-6547-4874-ae33-bb7b5ea1d7ec",
   "metadata": {},
   "outputs": [],
   "source": [
    "tree = ET.parse('vrejcelk.xml')\n",
    "root = tree.getroot()"
   ]
  },
  {
   "cell_type": "code",
   "execution_count": 3,
   "id": "49325a95-009c-4530-b7ad-3daa477e3b3b",
   "metadata": {},
   "outputs": [],
   "source": [
    "skoly_data = []\n",
    "zarizeni_info_data = []\n",
    "zarizeni_misto_data = []\n",
    "skola_obor_data = []\n",
    "\n",
    "for ps in root.findall('.//PravniSubjekt'):\n",
    "    # TAB \"skoly\" a \"zarizeni_info\"\n",
    "    ico = ps.find('ICO').text\n",
    "    nazev = ps.find('Reditelstvi').find('RedPlnyNazev').text\n",
    "    for sz in ps.find('SkolyZarizeni').findall('SkolaZarizeni'):\n",
    "        izo = sz.find('IZO').text\n",
    "        typZarizeni = sz.find('SkolaPlnyNazev').text\n",
    "        zarizeniDruhTyp = sz.find('SkolaDruhTyp').text\n",
    "        zarizeniKapacita = sz.find('SkolaKapacita').text\n",
    "        kapacitaJednotka = sz.find('SkolaKapacitaJednotka').text\n",
    "        jazyk = sz.find('SkolaJazyk').text\n",
    "\n",
    "        raw_skoly = {'IZO' : izo,  \n",
    "                    'ZarizeniTyp': typZarizeni, \n",
    "                    'Kapacita': zarizeniKapacita,\n",
    "                    'KapacitaJednotka': kapacitaJednotka,           \n",
    "                    }\n",
    "        raw_zarizeni_info = {\n",
    "                    'ICO': ico, \n",
    "                    'ReditelstviNazev' : nazev, \n",
    "                    'ZarizeniDruhTyp' : zarizeniDruhTyp, \n",
    "                    'jazyk' : jazyk, \n",
    "                    'IZO' : izo,\n",
    "                    }\n",
    "        skoly_data.append(raw_skoly)\n",
    "        zarizeni_info_data.append(raw_zarizeni_info)\n",
    "\n",
    "        # TAB \"zarizeni_misto\"\n",
    "        for smvc in sz.find('SkolaMistaVykonuCinnosti').findall('SkolaMistoVykonuCinnosti'):\n",
    "            idMista = smvc.find('IDMista').text\n",
    "            adresaX = smvc.find('MistoAdresa2').text\n",
    "            adresaY = smvc.find('MistoAdresa3').text\n",
    "            druh = smvc.find('MistoDruhTyp').text # u středních škol např. rozlišení gymnázií, u MŠ specializace\n",
    "            # adresu možná nahradit přes (nutno poupravit kod) RUIAN API, nebo https://data.gov.cz/datov%C3%A1-sada?iri=https%3A%2F%2Fdata.gov.cz%2Fzdroj%2Fdatov%C3%A9-sady%2F00025712%2F59ddccd404a617f695e3a1ef8e65b81e \n",
    "                             \n",
    "            raw_zarizeni_misto = {\n",
    "                    'druh' : druh,\n",
    "                    'IDMista': idMista,\n",
    "                    'adresaX' : adresaX,\n",
    "                    'adresaY' : adresaY,\n",
    "                    'IZO' : izo,\n",
    "                   }\n",
    "            zarizeni_misto_data.append(raw_zarizeni_misto)\n",
    "            \n",
    "        # TAB \"skola_obor\"\n",
    "        if sz.find('SkolaOboryVzdelani') is not None:\n",
    "            for sov in sz.find('SkolaOboryVzdelani').findall('SkolaOborVzdelani'):\n",
    "                oborNazev = sov.find('OborNazev').text\n",
    "                delkaVzdelavani = sov.find('DelkaVzdelavani').text\n",
    "                oborKapacita = sov.find('OborKapacita').text\n",
    "                oborDobihajici = sov.find('OborDobihajici').text\n",
    "                # print(oborNazev)\n",
    "    \n",
    "                raw_skola_obor = {\n",
    "                    'OborNazev' : oborNazev,\n",
    "                    'DelkaVzdelavani': delkaVzdelavani,\n",
    "                    'OborKapacita' : oborKapacita,\n",
    "                    'OborDobihajici' : oborDobihajici,\n",
    "                    'IZO' : izo,\n",
    "                   }\n",
    "                skola_obor_data.append(raw_skola_obor)"
   ]
  },
  {
   "cell_type": "markdown",
   "id": "06ae7f71-ff9b-403a-8bba-f5ebd0e2ddeb",
   "metadata": {},
   "source": [
    "### Školy data -> dataframe"
   ]
  },
  {
   "cell_type": "code",
   "execution_count": 4,
   "id": "59158dc2-6656-4905-ac4b-25686a8cfc91",
   "metadata": {
    "scrolled": true
   },
   "outputs": [],
   "source": [
    "skoly = pd.DataFrame(skoly_data)\n",
    "\n",
    "zarizeni_info = pd.DataFrame(zarizeni_info_data)\n",
    "zarizeni_info.insert(loc=0, column='ID', value=range(1, len(zarizeni_info_data) + 1))\n",
    "    \n",
    "zarizeni_misto = pd.DataFrame(zarizeni_misto_data)\n",
    "zarizeni_misto.insert(loc=0, column='ID', value=range(1, len(zarizeni_misto) + 1))\n",
    "    \n",
    "skola_obor = pd.DataFrame(skola_obor_data)\n",
    "skola_obor.insert(loc=0, column='ID', value=range(1, len(skola_obor_data) + 1))\n",
    "\n",
    "# kontrola dat u \"skoly\" a \"zarizeni_info\" v pořádku - stejný počet záznamů"
   ]
  },
  {
   "cell_type": "markdown",
   "id": "acac523a-f094-479b-a051-f68d956e5789",
   "metadata": {},
   "source": [
    "## MŠ + PSZŠSpeciální TAB"
   ]
  },
  {
   "cell_type": "code",
   "execution_count": 5,
   "id": "f448a64a-a9c8-4f06-8f48-15596d9b3844",
   "metadata": {},
   "outputs": [],
   "source": [
    "materske_skoly = skoly[skoly['ZarizeniTyp'].isin([\"Mateřská škola\", \"Mateřská škola (lesní mateřská škola)\", \"Mateřská škola - Przedszkole\", \"Mateřská škola s p.j.v.\", \"Přípravný stupeň základní školy speciální\"])]\n",
    "materske_skoly = materske_skoly.astype({'Kapacita':'int'})\n",
    "# materske_skoly.info()\n",
    "# materske_skoly['Kapacita'].sum()"
   ]
  },
  {
   "cell_type": "markdown",
   "id": "142aad92-8b81-4983-b571-8f981cfa18ec",
   "metadata": {},
   "source": [
    "## DětskéSkupinky TAB"
   ]
  },
  {
   "cell_type": "code",
   "execution_count": 6,
   "id": "38faa00d-f984-4cc4-8186-ae91749a1026",
   "metadata": {},
   "outputs": [],
   "source": [
    "from web_scrap_DS import DS_tabulka"
   ]
  },
  {
   "cell_type": "code",
   "execution_count": 7,
   "id": "4bdcfb96-4678-484b-9375-5af8e1c9c38f",
   "metadata": {},
   "outputs": [
    {
     "data": {
      "text/html": [
       "<div>\n",
       "<style scoped>\n",
       "    .dataframe tbody tr th:only-of-type {\n",
       "        vertical-align: middle;\n",
       "    }\n",
       "\n",
       "    .dataframe tbody tr th {\n",
       "        vertical-align: top;\n",
       "    }\n",
       "\n",
       "    .dataframe thead th {\n",
       "        text-align: right;\n",
       "    }\n",
       "</style>\n",
       "<table border=\"1\" class=\"dataframe\">\n",
       "  <thead>\n",
       "    <tr style=\"text-align: right;\">\n",
       "      <th></th>\n",
       "      <th>Kraj</th>\n",
       "      <th>Kapacita</th>\n",
       "    </tr>\n",
       "  </thead>\n",
       "  <tbody>\n",
       "    <tr>\n",
       "      <th>0</th>\n",
       "      <td>Hlavní město Praha</td>\n",
       "      <td>4439</td>\n",
       "    </tr>\n",
       "    <tr>\n",
       "      <th>1</th>\n",
       "      <td>Jihočeský</td>\n",
       "      <td>1305</td>\n",
       "    </tr>\n",
       "    <tr>\n",
       "      <th>2</th>\n",
       "      <td>Jihomoravský</td>\n",
       "      <td>4029</td>\n",
       "    </tr>\n",
       "    <tr>\n",
       "      <th>3</th>\n",
       "      <td>Karlovarský</td>\n",
       "      <td>256</td>\n",
       "    </tr>\n",
       "    <tr>\n",
       "      <th>4</th>\n",
       "      <td>Královéhradecký</td>\n",
       "      <td>1113</td>\n",
       "    </tr>\n",
       "    <tr>\n",
       "      <th>5</th>\n",
       "      <td>Liberecký</td>\n",
       "      <td>758</td>\n",
       "    </tr>\n",
       "    <tr>\n",
       "      <th>6</th>\n",
       "      <td>Moravskoslezský</td>\n",
       "      <td>2198</td>\n",
       "    </tr>\n",
       "    <tr>\n",
       "      <th>7</th>\n",
       "      <td>Olomoucký</td>\n",
       "      <td>1387</td>\n",
       "    </tr>\n",
       "    <tr>\n",
       "      <th>8</th>\n",
       "      <td>Pardubický</td>\n",
       "      <td>1044</td>\n",
       "    </tr>\n",
       "    <tr>\n",
       "      <th>9</th>\n",
       "      <td>Plzeňský</td>\n",
       "      <td>1053</td>\n",
       "    </tr>\n",
       "    <tr>\n",
       "      <th>10</th>\n",
       "      <td>Středočeský</td>\n",
       "      <td>3974</td>\n",
       "    </tr>\n",
       "    <tr>\n",
       "      <th>11</th>\n",
       "      <td>Ústecký</td>\n",
       "      <td>1547</td>\n",
       "    </tr>\n",
       "    <tr>\n",
       "      <th>12</th>\n",
       "      <td>Vysočina</td>\n",
       "      <td>591</td>\n",
       "    </tr>\n",
       "    <tr>\n",
       "      <th>13</th>\n",
       "      <td>Zlínský</td>\n",
       "      <td>753</td>\n",
       "    </tr>\n",
       "  </tbody>\n",
       "</table>\n",
       "</div>"
      ],
      "text/plain": [
       "                  Kraj Kapacita\n",
       "0   Hlavní město Praha     4439\n",
       "1            Jihočeský     1305\n",
       "2         Jihomoravský     4029\n",
       "3          Karlovarský      256\n",
       "4      Královéhradecký     1113\n",
       "5            Liberecký      758\n",
       "6      Moravskoslezský     2198\n",
       "7            Olomoucký     1387\n",
       "8           Pardubický     1044\n",
       "9             Plzeňský     1053\n",
       "10         Středočeský     3974\n",
       "11             Ústecký     1547\n",
       "12            Vysočina      591\n",
       "13             Zlínský      753"
      ]
     },
     "execution_count": 7,
     "metadata": {},
     "output_type": "execute_result"
    }
   ],
   "source": [
    "DS_tabulka"
   ]
  },
  {
   "cell_type": "markdown",
   "id": "e6482cb2-fa39-4646-b711-13faf0986ac6",
   "metadata": {},
   "source": [
    "## Porodnost 2018-2023 TAB "
   ]
  },
  {
   "cell_type": "code",
   "execution_count": 8,
   "id": "bc33c743-3e1b-476a-aea1-52980b7b1dde",
   "metadata": {},
   "outputs": [],
   "source": [
    "from web_scrap_porodnost import porodnost_tabulka"
   ]
  },
  {
   "cell_type": "code",
   "execution_count": 9,
   "id": "f512c2ec-55e2-4658-b46f-3179f2bb417d",
   "metadata": {},
   "outputs": [],
   "source": [
    "porodnost_tab = porodnost_tabulka.astype({\"PocetNarozenychDeti\":'int'}) \n",
    "porodnost_tabCR = porodnost_tab[porodnost_tab['Kraj'] == 'Česká republika']\n",
    "porodnost_tab_kraje = porodnost_tab[porodnost_tab['Kraj'] != 'Česká republika']\n",
    "# porodnost_tab_kraje\n",
    "# porodnost_tabCR[porodnost_tabCR['Rok'].isin([2021, 2020, 2019, 2018])]['PocetNarozenychDeti'].sum()\n",
    "# porodnost_tab.info()"
   ]
  }
 ],
 "metadata": {
  "kernelspec": {
   "display_name": "Python 3 (ipykernel)",
   "language": "python",
   "name": "python3"
  },
  "language_info": {
   "codemirror_mode": {
    "name": "ipython",
    "version": 3
   },
   "file_extension": ".py",
   "mimetype": "text/x-python",
   "name": "python",
   "nbconvert_exporter": "python",
   "pygments_lexer": "ipython3",
   "version": "3.12.2"
  }
 },
 "nbformat": 4,
 "nbformat_minor": 5
}
